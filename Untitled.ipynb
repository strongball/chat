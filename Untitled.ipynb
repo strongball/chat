{
 "cells": [
  {
   "cell_type": "code",
   "execution_count": 3,
   "metadata": {},
   "outputs": [],
   "source": [
    "from chatTool import *\n",
    "import pickle\n",
    "import random\n",
    "import numpy as np\n",
    "LangBag = \"dict.pkl\"\n",
    "DataName = \"./dgk_lost_conv/results/lost.conv.tconv\""
   ]
  },
  {
   "cell_type": "code",
   "execution_count": 4,
   "metadata": {},
   "outputs": [],
   "source": [
    "import torch.nn as nn\n",
    "import torch.nn.functional as F\n",
    "from torch.autograd import Variable\n",
    "import torch\n",
    "from torch import optim\n",
    "\n",
    "use_cuda = torch.cuda.is_available()"
   ]
  },
  {
   "cell_type": "code",
   "execution_count": 5,
   "metadata": {},
   "outputs": [],
   "source": [
    "with open(LangBag, 'rb') as f:\n",
    "    lang = pickle.load(f)"
   ]
  },
  {
   "cell_type": "code",
   "execution_count": 9,
   "metadata": {},
   "outputs": [],
   "source": [
    "lang = Lang(\"Number\")\n",
    "for w in \"\".join(map(str, np.arange(0,10,1))):\n",
    "    lang.addWord(w)"
   ]
  },
  {
   "cell_type": "code",
   "execution_count": 100,
   "metadata": {},
   "outputs": [],
   "source": [
    "class NumberReader(data.Dataset):\n",
    "    def __init__(self, maxNumber, maxLength):\n",
    "        self.maxNumber = maxNumber\n",
    "        self.maxLength = maxLength\n",
    "    def __getitem__(self, index):\n",
    "        a = np.random.randint(0,self.maxNumber, np.random.randint(2,self.maxLength))#np.random.randint(2,self.maxLength)\n",
    "        return \"\".join(map(str, a)), \"\".join(map(str, a[::-1]))\n",
    "    def __len__(self):\n",
    "        return 1000"
   ]
  },
  {
   "cell_type": "code",
   "execution_count": 6,
   "metadata": {},
   "outputs": [],
   "source": [
    "trainset = Reader(DataName)\n",
    "# trainset = NumberReader(9,5)\n",
    "trainloader = torch.utils.data.DataLoader(trainset, batch_size=1, \n",
    "                                              shuffle=True, num_workers=1)"
   ]
  },
  {
   "cell_type": "code",
   "execution_count": 7,
   "metadata": {},
   "outputs": [],
   "source": [
    "class EncoderRNN(nn.Module):\n",
    "    def __init__(self, input_size, em_size, hidden_size):\n",
    "        super(EncoderRNN, self).__init__()\n",
    "        self.em_size = em_size\n",
    "        self.hidden_size = hidden_size\n",
    "        self.embedding = nn.Embedding(input_size, self.em_size)\n",
    "        self.gru = nn.GRU(self.em_size, self.hidden_size)\n",
    "        self.out = nn.Linear(self.hidden_size, self.hidden_size)\n",
    "\n",
    "    def forward(self, input, hidden):\n",
    "        output = self.embedding(input.long()).view(1, -1, self.em_size)\n",
    "        output, hidden = self.gru(output, hidden)\n",
    "        output = self.out(output[:,-1,:])\n",
    "        return output, hidden\n",
    "    \n",
    "    def initHidden(self):\n",
    "        result = Variable(torch.zeros(1, 1, self.hidden_size))\n",
    "        if use_cuda:\n",
    "            return result.cuda()\n",
    "        else:\n",
    "            return result"
   ]
  },
  {
   "cell_type": "code",
   "execution_count": 8,
   "metadata": {},
   "outputs": [],
   "source": [
    "class DecoderRNN(nn.Module):\n",
    "    def __init__(self, input_size, em_size, hidden_size, output_size):\n",
    "        super(DecoderRNN, self).__init__()\n",
    "        self.hidden_size = hidden_size\n",
    "        self.em_size = em_size\n",
    "\n",
    "        self.embedding = nn.Embedding(input_size, em_size)\n",
    "        self.gru = nn.GRU(em_size, hidden_size)\n",
    "        self.out = nn.Linear(hidden_size, output_size)\n",
    "        self.softmax = nn.LogSoftmax()\n",
    "\n",
    "    def forward(self, input, hidden):\n",
    "        output = self.embedding(input.long()).view(1, -1, self.em_size)\n",
    "        output = F.relu(output)\n",
    "        output, hidden = self.gru(output, hidden)\n",
    "        output = self.softmax(self.out(output[0]))\n",
    "        return output[0], hidden\n",
    "\n",
    "    def initHidden(self):\n",
    "        result = Variable(torch.zeros(1, 1, self.hidden_size))\n",
    "        if use_cuda:\n",
    "            return result.cuda()\n",
    "        else:\n",
    "            return result"
   ]
  },
  {
   "cell_type": "code",
   "execution_count": 9,
   "metadata": {},
   "outputs": [],
   "source": [
    "INPUTSIZE = lang.n_words\n",
    "encoder = EncoderRNN(INPUTSIZE, 256, 512)\n",
    "decoder = DecoderRNN(INPUTSIZE, 256, 512, INPUTSIZE)\n",
    "if use_cuda:\n",
    "    encoder = encoder.cuda()\n",
    "    decoder = decoder.cuda()"
   ]
  },
  {
   "cell_type": "code",
   "execution_count": 10,
   "metadata": {},
   "outputs": [
    {
     "name": "stdout",
     "output_type": "stream",
     "text": [
      "Step   0, loss: 8.429454803466797\n",
      "Step 100, loss: 7.068339628331802\n",
      "Step 200, loss: 5.3433082580566404\n",
      "Step 300, loss: 5.55130360921224\n",
      "Step 400, loss: 5.4621537526448565\n",
      "Step 500, loss: 4.904784732394749\n"
     ]
    },
    {
     "name": "stderr",
     "output_type": "stream",
     "text": [
      "Process Process-1:\n",
      "Traceback (most recent call last):\n",
      "  File \"/home/ball/anaconda3/lib/python3.5/multiprocessing/process.py\", line 249, in _bootstrap\n",
      "    self.run()\n",
      "  File \"/home/ball/anaconda3/lib/python3.5/multiprocessing/process.py\", line 93, in run\n",
      "    self._target(*self._args, **self._kwargs)\n",
      "  File \"/home/ball/anaconda3/lib/python3.5/site-packages/torch/utils/data/dataloader.py\", line 35, in _worker_loop\n",
      "    r = index_queue.get()\n",
      "  File \"/home/ball/anaconda3/lib/python3.5/multiprocessing/queues.py\", line 343, in get\n",
      "    res = self._reader.recv_bytes()\n",
      "  File \"/home/ball/anaconda3/lib/python3.5/multiprocessing/connection.py\", line 216, in recv_bytes\n",
      "    buf = self._recv_bytes(maxlength)\n",
      "KeyboardInterrupt\n",
      "  File \"/home/ball/anaconda3/lib/python3.5/multiprocessing/connection.py\", line 407, in _recv_bytes\n",
      "    buf = self._recv(4)\n",
      "  File \"/home/ball/anaconda3/lib/python3.5/multiprocessing/connection.py\", line 379, in _recv\n",
      "    chunk = read(handle, remaining)\n"
     ]
    },
    {
     "ename": "KeyboardInterrupt",
     "evalue": "",
     "output_type": "error",
     "traceback": [
      "\u001b[0;31m---------------------------------------------------------------------------\u001b[0m",
      "\u001b[0;31mKeyboardInterrupt\u001b[0m                         Traceback (most recent call last)",
      "\u001b[0;32m<ipython-input-10-4174d67baaa5>\u001b[0m in \u001b[0;36m<module>\u001b[0;34m()\u001b[0m\n\u001b[1;32m     45\u001b[0m             \u001b[0mloss\u001b[0m \u001b[0;34m+=\u001b[0m \u001b[0mcriterion\u001b[0m\u001b[0;34m(\u001b[0m\u001b[0mdecoder_output\u001b[0m\u001b[0;34m,\u001b[0m \u001b[0mtarget\u001b[0m\u001b[0;34m[\u001b[0m\u001b[0mdi\u001b[0m\u001b[0;34m]\u001b[0m\u001b[0;34m)\u001b[0m\u001b[0;34m\u001b[0m\u001b[0m\n\u001b[1;32m     46\u001b[0m \u001b[0;34m\u001b[0m\u001b[0m\n\u001b[0;32m---> 47\u001b[0;31m         \u001b[0mloss\u001b[0m\u001b[0;34m.\u001b[0m\u001b[0mbackward\u001b[0m\u001b[0;34m(\u001b[0m\u001b[0;34m)\u001b[0m\u001b[0;34m\u001b[0m\u001b[0m\n\u001b[0m\u001b[1;32m     48\u001b[0m \u001b[0;34m\u001b[0m\u001b[0m\n\u001b[1;32m     49\u001b[0m         \u001b[0mencoder_optimizer\u001b[0m\u001b[0;34m.\u001b[0m\u001b[0mstep\u001b[0m\u001b[0;34m(\u001b[0m\u001b[0;34m)\u001b[0m\u001b[0;34m\u001b[0m\u001b[0m\n",
      "\u001b[0;32m/home/ball/anaconda3/lib/python3.5/site-packages/torch/autograd/variable.py\u001b[0m in \u001b[0;36mbackward\u001b[0;34m(self, gradient, retain_variables)\u001b[0m\n\u001b[1;32m    144\u001b[0m                     'or with gradient w.r.t. the variable')\n\u001b[1;32m    145\u001b[0m             \u001b[0mgradient\u001b[0m \u001b[0;34m=\u001b[0m \u001b[0mself\u001b[0m\u001b[0;34m.\u001b[0m\u001b[0mdata\u001b[0m\u001b[0;34m.\u001b[0m\u001b[0mnew\u001b[0m\u001b[0;34m(\u001b[0m\u001b[0;34m)\u001b[0m\u001b[0;34m.\u001b[0m\u001b[0mresize_as_\u001b[0m\u001b[0;34m(\u001b[0m\u001b[0mself\u001b[0m\u001b[0;34m.\u001b[0m\u001b[0mdata\u001b[0m\u001b[0;34m)\u001b[0m\u001b[0;34m.\u001b[0m\u001b[0mfill_\u001b[0m\u001b[0;34m(\u001b[0m\u001b[0;36m1\u001b[0m\u001b[0;34m)\u001b[0m\u001b[0;34m\u001b[0m\u001b[0m\n\u001b[0;32m--> 146\u001b[0;31m         \u001b[0mself\u001b[0m\u001b[0;34m.\u001b[0m\u001b[0m_execution_engine\u001b[0m\u001b[0;34m.\u001b[0m\u001b[0mrun_backward\u001b[0m\u001b[0;34m(\u001b[0m\u001b[0;34m(\u001b[0m\u001b[0mself\u001b[0m\u001b[0;34m,\u001b[0m\u001b[0;34m)\u001b[0m\u001b[0;34m,\u001b[0m \u001b[0;34m(\u001b[0m\u001b[0mgradient\u001b[0m\u001b[0;34m,\u001b[0m\u001b[0;34m)\u001b[0m\u001b[0;34m,\u001b[0m \u001b[0mretain_variables\u001b[0m\u001b[0;34m)\u001b[0m\u001b[0;34m\u001b[0m\u001b[0m\n\u001b[0m\u001b[1;32m    147\u001b[0m \u001b[0;34m\u001b[0m\u001b[0m\n\u001b[1;32m    148\u001b[0m     \u001b[0;32mdef\u001b[0m \u001b[0mregister_hook\u001b[0m\u001b[0;34m(\u001b[0m\u001b[0mself\u001b[0m\u001b[0;34m,\u001b[0m \u001b[0mhook\u001b[0m\u001b[0;34m)\u001b[0m\u001b[0;34m:\u001b[0m\u001b[0;34m\u001b[0m\u001b[0m\n",
      "\u001b[0;31mKeyboardInterrupt\u001b[0m: "
     ]
    }
   ],
   "source": [
    "encoder_optimizer = optim.Adam(encoder.parameters(), lr=1e-4)\n",
    "decoder_optimizer = optim.Adam(decoder.parameters(), lr=1e-4)\n",
    "criterion = nn.NLLLoss()\n",
    "tf = 0.5\n",
    "for epoch in range(2):\n",
    "    for i,data in enumerate(trainloader, 0):\n",
    "        input, target = data\n",
    "        input = torch.Tensor(lang.sentenceToVector(input[0])).long()\n",
    "        target = torch.Tensor(lang.sentenceToVector(target[0], eof = True)).long()\n",
    "                              \n",
    "        if use_cuda:\n",
    "            input = input.cuda()\n",
    "            target = target.cuda()\n",
    "        inputLen = input.size()[0]\n",
    "        targetLen = target.size()[0]\n",
    "\n",
    "        input = Variable(input)\n",
    "        target = Variable(target)\n",
    "\n",
    "        encoder_optimizer.zero_grad()\n",
    "        decoder_optimizer.zero_grad()\n",
    "\n",
    "        encoder_hidden = encoder.initHidden()\n",
    "        for ei in input:\n",
    "            o, encoder_hidden = encoder(ei, encoder_hidden)\n",
    "        decoder_input = Variable(torch.LongTensor([0]))\n",
    "        decoder_input = decoder_input.cuda() if use_cuda else decoder_input\n",
    "\n",
    "        decoder_hidden = o.view(1,1,-1)\n",
    "\n",
    "        loss = 0\n",
    "        use_teacher_forcing = True if random.random() < tf else False\n",
    "        for di in range(targetLen):\n",
    "            decoder_output, decoder_hidden = decoder(decoder_input, decoder_hidden)\n",
    "            topv, topi = decoder_output.data.topk(1)\n",
    "            ni = topi[0]\n",
    "            decoder_input = target[di]\n",
    "            if use_teacher_forcing:\n",
    "                decoder_input = Variable(torch.LongTensor([ni]))\n",
    "                if use_cuda:\n",
    "                    decoder_input = decoder_input.cuda()\n",
    "            else:\n",
    "                decoder_input = target[di]\n",
    "\n",
    "            loss += criterion(decoder_output, target[di])\n",
    "\n",
    "        loss.backward()\n",
    "\n",
    "        encoder_optimizer.step()\n",
    "        decoder_optimizer.step()\n",
    "\n",
    "        if i % 100 == 0:\n",
    "            print(\"Step {:3}, loss: {}\".format(i, loss.data[0] / targetLen))\n",
    "#             tf *= 0.9"
   ]
  },
  {
   "cell_type": "code",
   "execution_count": 181,
   "metadata": {},
   "outputs": [
    {
     "name": "stdout",
     "output_type": "stream",
     "text": [
      "9 7\n",
      "6 4\n",
      "1 EOS\n",
      "148 841\n",
      "74\n"
     ]
    }
   ],
   "source": [
    "q,a = trainset[2]\n",
    "\n",
    "input = torch.Tensor(lang.sentenceToVector(a)).long()\n",
    "input = Variable(input).cuda()\n",
    "encoder_hidden = encoder.initHidden()\n",
    "for ei in input:\n",
    "    o, encoder_hidden = encoder(ei, encoder_hidden)\n",
    "decoder_hidden = o.view(1,1,-1)\n",
    "decoder_input = Variable(torch.LongTensor([0]))\n",
    "decoder_input = decoder_input.cuda() if use_cuda else decoder_input\n",
    "\n",
    "ans = []\n",
    "for i in range(20):\n",
    "    decoder_output, decoder_hidden = decoder(decoder_input, decoder_hidden)\n",
    "    topv, topi = decoder_output.data.topk(1)\n",
    "    ni = topi[0]\n",
    "    ans.append(ni)\n",
    "    decoder_input = Variable(torch.LongTensor([ni])).cuda()\n",
    "    print(ni, lang.index2word[ni])\n",
    "    if ni == 1:\n",
    "        break\n",
    "print(q, a)\n",
    "print(lang.vectorToSentence(ans))"
   ]
  },
  {
   "cell_type": "code",
   "execution_count": 77,
   "metadata": {},
   "outputs": [
    {
     "data": {
      "text/plain": [
       "torch.Size([1, 1, 50])"
      ]
     },
     "execution_count": 77,
     "metadata": {},
     "output_type": "execute_result"
    }
   ],
   "source": [
    "o,h = encoder(input[0], encoder_hidden)\n",
    "h.size()\n",
    "encoder.initHidden().size()"
   ]
  },
  {
   "cell_type": "code",
   "execution_count": 230,
   "metadata": {},
   "outputs": [],
   "source": [
    "em = encoder.embedding(input).view(1, -1, encoder.em_size)\n",
    "o1, h1 = encoder.gru(em)"
   ]
  },
  {
   "cell_type": "code",
   "execution_count": 232,
   "metadata": {},
   "outputs": [
    {
     "data": {
      "text/plain": [
       "Variable containing:\n",
       "\n",
       "Columns 0 to 9 \n",
       "-0.1385  0.1484  0.1496 -0.0914 -0.1649 -0.1600 -0.0198 -0.1365 -0.1289 -0.0860\n",
       "\n",
       "Columns 10 to 19 \n",
       " 0.0813 -0.0057  0.2005 -0.0842  0.1288 -0.1611 -0.1278 -0.1688 -0.0239 -0.0400\n",
       "\n",
       "Columns 20 to 24 \n",
       "-0.0790  0.0103 -0.0156 -0.0649 -0.1217\n",
       "[torch.cuda.FloatTensor of size 1x25 (GPU 0)]"
      ]
     },
     "execution_count": 232,
     "metadata": {},
     "output_type": "execute_result"
    }
   ],
   "source": [
    "encoder.out(o1[:,-2,:])"
   ]
  },
  {
   "cell_type": "code",
   "execution_count": 209,
   "metadata": {},
   "outputs": [],
   "source": [
    "em = encoder.embedding(input1).view(1, -1, encoder.em_size)\n",
    "o2, h2 = encoder.gru(em)"
   ]
  },
  {
   "cell_type": "code",
   "execution_count": 37,
   "metadata": {},
   "outputs": [],
   "source": [
    "q,a = trainset[0]\n",
    "ip = Variable(torch.Tensor(lang.sentenceToVector(q)).long()).cuda()\n",
    "op = Variable(torch.Tensor(lang.sentenceToVector(a)).long()).cuda()\n",
    "\n",
    "eo, eh = encoder(ip)\n",
    "\n",
    "oh = eh[:, -1, :].view(1,1,-1)\n",
    "for w in op:\n",
    "    ans, oh = decoder(op[0], oh)"
   ]
  },
  {
   "cell_type": "code",
   "execution_count": 19,
   "metadata": {},
   "outputs": [
    {
     "data": {
      "text/plain": [
       "torch.Size([15])"
      ]
     },
     "execution_count": 19,
     "metadata": {},
     "output_type": "execute_result"
    }
   ],
   "source": [
    "ip.size()"
   ]
  },
  {
   "cell_type": "code",
   "execution_count": 197,
   "metadata": {},
   "outputs": [
    {
     "data": {
      "text/plain": [
       "Variable containing:\n",
       " 0\n",
       " 1\n",
       "[torch.cuda.LongTensor of size 2 (GPU 0)]"
      ]
     },
     "execution_count": 197,
     "metadata": {},
     "output_type": "execute_result"
    }
   ],
   "source": [
    "q,a = trainset[2]\n",
    "\n",
    "input = torch.Tensor(lang.sentenceToVector(a)).long()\n",
    "input = Variable(input).cuda()\n",
    "input"
   ]
  },
  {
   "cell_type": "code",
   "execution_count": 132,
   "metadata": {},
   "outputs": [
    {
     "data": {
      "text/plain": [
       "torch.Size([1, 10])"
      ]
     },
     "execution_count": 132,
     "metadata": {},
     "output_type": "execute_result"
    }
   ],
   "source": [
    "encoder(input[0], encoder.initHidden())[0].size()"
   ]
  },
  {
   "cell_type": "code",
   "execution_count": null,
   "metadata": {},
   "outputs": [],
   "source": []
  }
 ],
 "metadata": {
  "kernelspec": {
   "display_name": "Python 3",
   "language": "python",
   "name": "python3"
  },
  "language_info": {
   "codemirror_mode": {
    "name": "ipython",
    "version": 3
   },
   "file_extension": ".py",
   "mimetype": "text/x-python",
   "name": "python",
   "nbconvert_exporter": "python",
   "pygments_lexer": "ipython3",
   "version": "3.5.2"
  }
 },
 "nbformat": 4,
 "nbformat_minor": 2
}
