{
 "cells": [
  {
   "cell_type": "code",
   "execution_count": 1,
   "metadata": {},
   "outputs": [
    {
     "name": "stdout",
     "output_type": "stream",
     "text": [
      "Load file:./dgk_lost_conv/results/lost.conv.tconv, Size: 47496\n",
      "\n"
     ]
    }
   ],
   "source": [
    "from chatTool import *\n",
    "from Net import *\n",
    "import pickle\n",
    "import random\n",
    "import os\n",
    "\n",
    "import torch.nn as nn\n",
    "import torch.nn.functional as F\n",
    "from torch.autograd import Variable\n",
    "import torch\n",
    "from torch import optim\n",
    "\n",
    "use_cuda = torch.cuda.is_available()\n",
    "\n",
    "LangBag = \"dict.pkl\"\n",
    "DataName = \"./dgk_lost_conv/results/lost.conv.tconv\"\n",
    "ModelDir = \"lost\"\n",
    "# EncoderFile = \"EncoderEos.pth\"\n",
    "# DecoderFile = \"DecoderEos.pth\"\n",
    "# EncoderFile = \"LostEncoder.pth\"\n",
    "# DecoderFile = \"LostDecoder.pth\"\n",
    "EncoderFile = os.path.join(ModelDir, \"Encoder.pth\")\n",
    "DecoderFile = os.path.join(ModelDir, \"Decoder.pth\")\n",
    "\n",
    "with open(LangBag, 'rb') as f:\n",
    "    lang = pickle.load(f)\n",
    "\n",
    "trainset = Reader(DataName)"
   ]
  },
  {
   "cell_type": "code",
   "execution_count": 2,
   "metadata": {},
   "outputs": [
    {
     "name": "stdout",
     "output_type": "stream",
     "text": [
      "Load encoder model: lost/Encoder.pth.\n",
      "Load decoder model: lost/Decoder.pth.\n"
     ]
    }
   ],
   "source": [
    "INPUTSIZE = len(lang.index2word)\n",
    "\n",
    "if os.path.isfile(EncoderFile):\n",
    "    encoder = torch.load(EncoderFile)\n",
    "    print(\"Load encoder model: {}.\".format(EncoderFile))\n",
    "else:\n",
    "    encoder = EncoderRNN(INPUTSIZE, 64, 256)\n",
    "    print(\"Create encoder model.\")\n",
    "\n",
    "if os.path.isfile(DecoderFile):\n",
    "    decoder = torch.load(DecoderFile)\n",
    "    print(\"Load decoder model: {}.\".format(DecoderFile))\n",
    "else:\n",
    "    decoder = DecoderRNN(INPUTSIZE, 64, 256, INPUTSIZE)\n",
    "    print(\"Create decoder model.\")\n",
    "\n",
    "if use_cuda:\n",
    "    encoder = encoder.cuda()\n",
    "    decoder = decoder.cuda()"
   ]
  },
  {
   "cell_type": "code",
   "execution_count": 3,
   "metadata": {},
   "outputs": [],
   "source": [
    "def predit(q):\n",
    "    input = torch.Tensor(lang.sentenceToVector(q)).long()\n",
    "    input = Variable(input)\n",
    "\n",
    "    if use_cuda:\n",
    "        input = input.cuda()\n",
    "    o, encoder_hidden = encoder(input)\n",
    "    decoder_input = Variable(torch.LongTensor([0]))\n",
    "    decoder_input = decoder_input.cuda() if use_cuda else decoder_input\n",
    "    decoder_hidden = o.view(1,1,-1)\n",
    "    ans = []\n",
    "    for i in range(50):\n",
    "        decoder_output, decoder_hidden = decoder(decoder_input, decoder_hidden)\n",
    "        topv, topi = decoder_output.data.topk(1)\n",
    "        ni = topi[0]\n",
    "        ans.append(ni)\n",
    "        decoder_input = Variable(torch.LongTensor([ni]))\n",
    "        if use_cuda:\n",
    "            decoder_input = decoder_input.cuda()   \n",
    "        if ni == 1:\n",
    "            break\n",
    "    return lang.vectorToSentence(ans)"
   ]
  },
  {
   "cell_type": "code",
   "execution_count": 6,
   "metadata": {},
   "outputs": [
    {
     "name": "stdout",
     "output_type": "stream",
     "text": [
      "Q: 回你的教堂去\n",
      "A: 別上飛機  Eko\n",
      "M: 你想讓我死嗎?\n",
      "\n",
      "Q: 我什麼都不知道\n",
      "A: 你知道她的那張疑犯照片\n",
      "M: 他們是從哪兒來的?\n",
      "\n",
      "Q: 你們不介意吧?\n",
      "A: 好的\n",
      "M: 我們在澳大利亞\n",
      "\n",
      "Q: 你上完了 快開門\n",
      "A: Austen 我發誓\n",
      "M: 我們把一個牧師鎖在了外面?\n",
      "\n",
      "Q: 太好看了\n",
      "A: 謝謝\n",
      "M: 我們可以靠他們\n",
      "\n",
      "Q: 我只是...\n",
      "A: 我只是很害怕\n",
      "M: 我們來這兒之前\n",
      "\n",
      "Q: 這個女人會告訴你如何回來\n",
      "A: 誰...她是誰?\n",
      "M: 你想知道他們怎麼會那樣?\n",
      "\n",
      "Q: 什麼?\n",
      "A: 你想打開它?\n",
      "M: 我們在澳大利亞\n",
      "\n",
      "Q: 我又和另一女子發生了關係\n",
      "A: 完事以後  我又看她們倆...\n",
      "M: 我們去找Locke\n",
      "\n",
      "Q: 我們非常安全  好吧\n",
      "A: 所以在這裏別見外\n",
      "M: 我們已經獲救了\n",
      "\n"
     ]
    }
   ],
   "source": [
    "for _ in range(10):\n",
    "    q,a = random.choice(trainset)\n",
    "    print(\"Q: {}\\nA: {}\\nM: {}\\n\".format(q, a, predit(q)))"
   ]
  },
  {
   "cell_type": "code",
   "execution_count": 5,
   "metadata": {},
   "outputs": [
    {
     "name": "stdout",
     "output_type": "stream",
     "text": [
      "你真以爲他會告訴我們?\n"
     ]
    }
   ],
   "source": [
    "print(predit(\"我們走\"))"
   ]
  },
  {
   "cell_type": "code",
   "execution_count": 6,
   "metadata": {},
   "outputs": [
    {
     "name": "stdout",
     "output_type": "stream",
     "text": [
      "該你了\n"
     ]
    }
   ],
   "source": [
    "print(predit(\"打球\"))"
   ]
  },
  {
   "cell_type": "code",
   "execution_count": 14,
   "metadata": {},
   "outputs": [],
   "source": [
    "input = torch.Tensor(lang.sentenceToVector(\"我們非常安\")).long()\n",
    "input = Variable(input)\n",
    "\n",
    "if use_cuda:\n",
    "    input = input.cuda()"
   ]
  },
  {
   "cell_type": "code",
   "execution_count": 15,
   "metadata": {},
   "outputs": [],
   "source": [
    "output = encoder.embedding(input.long()).view(1, -1, encoder.em_size)\n",
    "output, hidden = encoder.gru(output)"
   ]
  },
  {
   "cell_type": "code",
   "execution_count": 13,
   "metadata": {},
   "outputs": [
    {
     "data": {
      "text/plain": [
       "Variable containing:\n",
       " 0.2507  0.6256  0.0267  ...  -0.0063 -0.0093  0.1319\n",
       "[torch.cuda.FloatTensor of size 1x1024 (GPU 0)]"
      ]
     },
     "execution_count": 13,
     "metadata": {},
     "output_type": "execute_result"
    }
   ],
   "source": [
    "output[:,-2,:]"
   ]
  },
  {
   "cell_type": "code",
   "execution_count": 16,
   "metadata": {},
   "outputs": [
    {
     "data": {
      "text/plain": [
       "Variable containing:\n",
       " 0.2507  0.6256  0.0267  ...  -0.0063 -0.0093  0.1319\n",
       "[torch.cuda.FloatTensor of size 1x1024 (GPU 0)]"
      ]
     },
     "execution_count": 16,
     "metadata": {},
     "output_type": "execute_result"
    }
   ],
   "source": [
    "output[:,-1,:]"
   ]
  },
  {
   "cell_type": "code",
   "execution_count": null,
   "metadata": {},
   "outputs": [],
   "source": []
  }
 ],
 "metadata": {
  "kernelspec": {
   "display_name": "Python 3",
   "language": "python",
   "name": "python3"
  },
  "language_info": {
   "codemirror_mode": {
    "name": "ipython",
    "version": 3
   },
   "file_extension": ".py",
   "mimetype": "text/x-python",
   "name": "python",
   "nbconvert_exporter": "python",
   "pygments_lexer": "ipython3",
   "version": "3.5.2"
  }
 },
 "nbformat": 4,
 "nbformat_minor": 2
}
